{
 "cells": [
  {
   "cell_type": "code",
   "execution_count": null,
   "id": "dbb2a6ef",
   "metadata": {},
   "outputs": [],
   "source": []
  },
  {
   "cell_type": "code",
   "execution_count": 1,
   "id": "314d6a44",
   "metadata": {},
   "outputs": [],
   "source": [
    "import warnings\n",
    "\n",
    "import numpy as np\n",
    "import pandas as pd\n",
    "import matplotlib.pyplot as plt\n",
    "import seaborn as sns\n",
    "from pymc_marketing.mmm.transformers import geometric_adstock, logistic_saturation\n",
    "from pymc_marketing.mmm import MMM, GeometricAdstock, LogisticSaturation\n",
    "from pymc_marketing.prior import Prior\n",
    "from sklearn.preprocessing import MinMaxScaler\n",
    "import pymc as pm\n",
    "import arviz as az\n",
    "\n",
    "warnings.filterwarnings(\"ignore\",category=FutureWarning)"
   ]
  },
  {
   "cell_type": "markdown",
   "id": "8b93a3ce",
   "metadata": {},
   "source": [
    "## Data"
   ]
  },
  {
   "cell_type": "code",
   "execution_count": 3,
   "id": "94ac58bd",
   "metadata": {},
   "outputs": [],
   "source": [
    "data = pd.read_csv(\"../data/data1.csv\",delimiter=',')\n",
    "media_columns=[\"TikTok\",\"Facebook\",\"Google Ads\"]"
   ]
  },
  {
   "cell_type": "code",
   "execution_count": 6,
   "id": "d5a1c67f",
   "metadata": {},
   "outputs": [],
   "source": [
    "mmm_default = MMM.load(\"mmm_1.nc\")"
   ]
  },
  {
   "cell_type": "markdown",
   "id": "4f87bcb4",
   "metadata": {},
   "source": [
    "### Budget optimization"
   ]
  },
  {
   "cell_type": "code",
   "execution_count": 7,
   "id": "b4714db7",
   "metadata": {},
   "outputs": [
    {
     "data": {
      "text/html": [
       "<div>\n",
       "<style scoped>\n",
       "    .dataframe tbody tr th:only-of-type {\n",
       "        vertical-align: middle;\n",
       "    }\n",
       "\n",
       "    .dataframe tbody tr th {\n",
       "        vertical-align: top;\n",
       "    }\n",
       "\n",
       "    .dataframe thead th {\n",
       "        text-align: right;\n",
       "    }\n",
       "</style>\n",
       "<table border=\"1\" class=\"dataframe\">\n",
       "  <thead>\n",
       "    <tr style=\"text-align: right;\">\n",
       "      <th></th>\n",
       "      <th>TikTok</th>\n",
       "      <th>Facebook</th>\n",
       "      <th>Google Ads</th>\n",
       "    </tr>\n",
       "  </thead>\n",
       "  <tbody>\n",
       "    <tr>\n",
       "      <th>188</th>\n",
       "      <td>8520.87</td>\n",
       "      <td>0.00</td>\n",
       "      <td>0.00</td>\n",
       "    </tr>\n",
       "    <tr>\n",
       "      <th>189</th>\n",
       "      <td>13086.03</td>\n",
       "      <td>0.00</td>\n",
       "      <td>2094.45</td>\n",
       "    </tr>\n",
       "    <tr>\n",
       "      <th>190</th>\n",
       "      <td>7414.29</td>\n",
       "      <td>0.00</td>\n",
       "      <td>2186.08</td>\n",
       "    </tr>\n",
       "    <tr>\n",
       "      <th>191</th>\n",
       "      <td>10534.10</td>\n",
       "      <td>0.00</td>\n",
       "      <td>1964.94</td>\n",
       "    </tr>\n",
       "    <tr>\n",
       "      <th>192</th>\n",
       "      <td>0.00</td>\n",
       "      <td>5213.48</td>\n",
       "      <td>1715.62</td>\n",
       "    </tr>\n",
       "    <tr>\n",
       "      <th>193</th>\n",
       "      <td>7663.81</td>\n",
       "      <td>0.00</td>\n",
       "      <td>2399.59</td>\n",
       "    </tr>\n",
       "    <tr>\n",
       "      <th>194</th>\n",
       "      <td>0.00</td>\n",
       "      <td>4757.98</td>\n",
       "      <td>0.00</td>\n",
       "    </tr>\n",
       "    <tr>\n",
       "      <th>195</th>\n",
       "      <td>0.00</td>\n",
       "      <td>0.00</td>\n",
       "      <td>1691.68</td>\n",
       "    </tr>\n",
       "    <tr>\n",
       "      <th>196</th>\n",
       "      <td>11543.58</td>\n",
       "      <td>4615.35</td>\n",
       "      <td>2518.88</td>\n",
       "    </tr>\n",
       "    <tr>\n",
       "      <th>197</th>\n",
       "      <td>0.00</td>\n",
       "      <td>4556.16</td>\n",
       "      <td>1919.19</td>\n",
       "    </tr>\n",
       "    <tr>\n",
       "      <th>198</th>\n",
       "      <td>0.00</td>\n",
       "      <td>0.00</td>\n",
       "      <td>1707.65</td>\n",
       "    </tr>\n",
       "    <tr>\n",
       "      <th>199</th>\n",
       "      <td>0.00</td>\n",
       "      <td>0.00</td>\n",
       "      <td>1863.31</td>\n",
       "    </tr>\n",
       "  </tbody>\n",
       "</table>\n",
       "</div>"
      ],
      "text/plain": [
       "       TikTok  Facebook  Google Ads\n",
       "188   8520.87      0.00        0.00\n",
       "189  13086.03      0.00     2094.45\n",
       "190   7414.29      0.00     2186.08\n",
       "191  10534.10      0.00     1964.94\n",
       "192      0.00   5213.48     1715.62\n",
       "193   7663.81      0.00     2399.59\n",
       "194      0.00   4757.98        0.00\n",
       "195      0.00      0.00     1691.68\n",
       "196  11543.58   4615.35     2518.88\n",
       "197      0.00   4556.16     1919.19\n",
       "198      0.00      0.00     1707.65\n",
       "199      0.00      0.00     1863.31"
      ]
     },
     "execution_count": 7,
     "metadata": {},
     "output_type": "execute_result"
    }
   ],
   "source": [
    "perc_change =0.2\n",
    "budget_len =12\n",
    "budget_idx = slice(len(data)-budget_len,len(data))\n",
    "\n",
    "recent_period = data[budget_idx][media_columns]\n",
    "recent_period"
   ]
  },
  {
   "cell_type": "code",
   "execution_count": 8,
   "id": "13ca0d43",
   "metadata": {},
   "outputs": [
    {
     "name": "stdout",
     "output_type": "stream",
     "text": [
      "Overall budget constraint: 10000\n",
      "Channel constraints:\n",
      "  TikTok: Lower Bound = 0.0, Upper Bound = 15703.24\n",
      "  Facebook: Lower Bound = 0.0, Upper Bound = 6256.18\n",
      "  Google Ads: Lower Bound = 0.0, Upper Bound = 3022.66\n"
     ]
    }
   ],
   "source": [
    "budget = 10000#round(recent_period.sum(axis=0).sum()/budget_len , -3)\n",
    "\n",
    "current_budget_split = round(recent_period.mean()/recent_period.mean().sum(),2)\n",
    "\n",
    "lower_bound = round(recent_period.min(axis=0)*(1-perc_change),2)\n",
    "upper_bound = round(recent_period.max(axis=0)*(1+perc_change),2)\n",
    "\n",
    "budget_bounds = {col : [lower_bound[col],upper_bound[col]]\n",
    "                 for col in media_columns}\n",
    "\n",
    "print(f'Overall budget constraint: {budget}')\n",
    "print('Channel constraints:')\n",
    "for channel, bounds in budget_bounds.items():\n",
    "    print(f'  {channel}: Lower Bound = {bounds[0]}, Upper Bound = {bounds[1]}')"
   ]
  },
  {
   "cell_type": "code",
   "execution_count": 9,
   "id": "1f9f756a",
   "metadata": {},
   "outputs": [
    {
     "name": "stderr",
     "output_type": "stream",
     "text": [
      "/usr/local/anaconda3/envs/datascience/lib/python3.10/site-packages/pymc_marketing/mmm/budget_optimizer.py:227: UserWarning: Using default equality constraint\n",
      "  self.set_constraints(\n",
      "Sampling: [y]\n"
     ]
    }
   ],
   "source": [
    "model_granularity = \"weekly\"\n",
    "\n",
    "allocation_strategy, optimization_result = mmm_default.optimize_budget(\n",
    "    budget=budget,\n",
    "    budget_bounds=budget_bounds,\n",
    "    num_periods=budget_len,\n",
    "    minimize_kwargs={\n",
    "        \"method\":\"SLSQP\",\n",
    "        \"options\":{\"ftol\":1e-09,\"maxiter\":5_000},\n",
    "    }\n",
    ")\n",
    "\n",
    "response = mmm_default.sample_response_distribution(\n",
    "    allocation_strategy=allocation_strategy,\n",
    "    time_granularity = model_granularity,\n",
    "    num_periods=budget_len,\n",
    "    noise_level=0.05\n",
    ")\n"
   ]
  },
  {
   "cell_type": "code",
   "execution_count": 10,
   "id": "600643b6",
   "metadata": {},
   "outputs": [
    {
     "data": {
      "text/html": [
       "<div>\n",
       "<style scoped>\n",
       "    .dataframe tbody tr th:only-of-type {\n",
       "        vertical-align: middle;\n",
       "    }\n",
       "\n",
       "    .dataframe tbody tr th {\n",
       "        vertical-align: top;\n",
       "    }\n",
       "\n",
       "    .dataframe thead th {\n",
       "        text-align: right;\n",
       "    }\n",
       "</style>\n",
       "<table border=\"1\" class=\"dataframe\">\n",
       "  <thead>\n",
       "    <tr style=\"text-align: right;\">\n",
       "      <th></th>\n",
       "      <th>opt_spend</th>\n",
       "      <th>avg_spend</th>\n",
       "    </tr>\n",
       "  </thead>\n",
       "  <tbody>\n",
       "    <tr>\n",
       "      <th>TikTok</th>\n",
       "      <td>721.16</td>\n",
       "      <td>6000.0</td>\n",
       "    </tr>\n",
       "    <tr>\n",
       "      <th>Facebook</th>\n",
       "      <td>6256.18</td>\n",
       "      <td>2000.0</td>\n",
       "    </tr>\n",
       "    <tr>\n",
       "      <th>Google Ads</th>\n",
       "      <td>3022.66</td>\n",
       "      <td>2000.0</td>\n",
       "    </tr>\n",
       "  </tbody>\n",
       "</table>\n",
       "</div>"
      ],
      "text/plain": [
       "            opt_spend  avg_spend\n",
       "TikTok         721.16     6000.0\n",
       "Facebook      6256.18     2000.0\n",
       "Google Ads    3022.66     2000.0"
      ]
     },
     "execution_count": 10,
     "metadata": {},
     "output_type": "execute_result"
    }
   ],
   "source": [
    "opt_spend = pd.Series(allocation_strategy, index=recent_period.mean().index).to_frame(name=\"opt_spend\")\n",
    "opt_spend[\"avg_spend\"] = budget * current_budget_split\n",
    "opt_spend"
   ]
  },
  {
   "cell_type": "code",
   "execution_count": 11,
   "id": "e76ad9ca",
   "metadata": {},
   "outputs": [
    {
     "data": {
      "text/plain": [
       "opt_spend    10000.0\n",
       "avg_spend    10000.0\n",
       "dtype: float64"
      ]
     },
     "execution_count": 11,
     "metadata": {},
     "output_type": "execute_result"
    }
   ],
   "source": [
    "opt_spend.sum()"
   ]
  },
  {
   "cell_type": "code",
   "execution_count": 12,
   "id": "d8f0bbbf",
   "metadata": {},
   "outputs": [
    {
     "data": {
      "image/png": "[encoded data removed]",
      "text/plain": [
       "<Figure size 900x400 with 1 Axes>"
      ]
     },
     "metadata": {},
     "output_type": "display_data"
    }
   ],
   "source": [
    "fig, ax = plt.subplots(figsize=(9, 4))\n",
    "opt_spend.plot(kind='barh', ax=ax, color=['blue', 'orange'])\n",
    "\n",
    "plt.xlabel(\"Spend\")\n",
    "plt.ylabel(\"Channel\")\n",
    "plt.title(\"Actual vs Optimal Spend by Channel\")\n",
    "plt.legend([\"Optimal Spend\", \"Actual Spend\"])\n",
    "plt.legend([\"Optimal Spend\", \"Actual Spend\"], loc='lower right', bbox_to_anchor=(1.5, 0.0))\n",
    "\n",
    "plt.show()"
   ]
  },
  {
   "cell_type": "code",
   "execution_count": 13,
   "id": "648197fd",
   "metadata": {},
   "outputs": [
    {
     "data": {
      "text/plain": [
       "index\n",
       "0     2018-01-07\n",
       "1     2018-01-14\n",
       "2     2018-01-21\n",
       "3     2018-01-28\n",
       "4     2018-02-04\n",
       "         ...    \n",
       "187   2021-08-08\n",
       "188   2021-08-15\n",
       "189   2021-08-22\n",
       "190   2021-08-29\n",
       "191   2021-09-05\n",
       "Name: Date, Length: 192, dtype: datetime64[ns]"
      ]
     },
     "execution_count": 13,
     "metadata": {},
     "output_type": "execute_result"
    }
   ],
   "source": [
    "mmm_default.X['Date']"
   ]
  },
  {
   "cell_type": "code",
   "execution_count": 14,
   "id": "b3fa6e36",
   "metadata": {},
   "outputs": [
    {
     "name": "stderr",
     "output_type": "stream",
     "text": [
      "Sampling: [y]\n"
     ]
    },
    {
     "data": {
      "application/vnd.jupyter.widget-view+json": {
       "model_id": "66570a1b9df0427dacd846f904cd57f0",
       "version_major": 2,
       "version_minor": 0
      },
      "text/plain": [
       "Output()"
      ]
     },
     "metadata": {},
     "output_type": "display_data"
    },
    {
     "data": {
      "text/html": [
       "<pre style=\"white-space:pre;overflow-x:auto;line-height:normal;font-family:Menlo,'DejaVu Sans Mono',consolas,'Courier New',monospace\"></pre>\n"
      ],
      "text/plain": []
     },
     "metadata": {},
     "output_type": "display_data"
    }
   ],
   "source": [
    "# create dataframe with optimal spend\n",
    "last_date = mmm_default.X['Date'].max()\n",
    "new_dates = pd.date_range(start=last_date, periods=1 + budget_len, freq=\"W-MON\")[1:]\n",
    "budget_scenario_opt = pd.DataFrame({\"Date\": new_dates,})\n",
    "budget_scenario_opt[\"TikTok\"] = opt_spend[\"opt_spend\"][\"TikTok\"]\n",
    "budget_scenario_opt[\"Facebook\"] = opt_spend[\"opt_spend\"][\"Facebook\"]\n",
    "budget_scenario_opt[\"Google Ads\"] = opt_spend[\"opt_spend\"][\"Google Ads\"]\n",
    "# budget_scenario_opt[\"demand\"] = X[budget_idx][control_cols].mean()[0]\n",
    "\n",
    "# calculate overall contribution\n",
    "scenario_contrib_opt = mmm_default.sample_posterior_predictive(\n",
    "    X_pred=budget_scenario_opt, extend_idata=False\n",
    ")\n",
    "\n",
    "opt_contrib = scenario_contrib_opt.mean(dim=\"sample\").sum()[\"y\"].values\n"
   ]
  },
  {
   "cell_type": "code",
   "execution_count": 15,
   "id": "4ded5137",
   "metadata": {},
   "outputs": [
    {
     "name": "stderr",
     "output_type": "stream",
     "text": [
      "Sampling: [y]\n"
     ]
    },
    {
     "data": {
      "application/vnd.jupyter.widget-view+json": {
       "model_id": "734cef554b0543bdbea08ac9456a73a8",
       "version_major": 2,
       "version_minor": 0
      },
      "text/plain": [
       "Output()"
      ]
     },
     "metadata": {},
     "output_type": "display_data"
    },
    {
     "data": {
      "text/html": [
       "<pre style=\"white-space:pre;overflow-x:auto;line-height:normal;font-family:Menlo,'DejaVu Sans Mono',consolas,'Courier New',monospace\"></pre>\n"
      ],
      "text/plain": []
     },
     "metadata": {},
     "output_type": "display_data"
    }
   ],
   "source": [
    "# create dataframe with avg spend\n",
    "last_date = mmm_default.X[\"Date\"].max()\n",
    "new_dates = pd.date_range(start=last_date, periods=1 + budget_len, freq=\"W-MON\")[1:]\n",
    "budget_scenario_avg = pd.DataFrame({\"Date\": new_dates,})\n",
    "budget_scenario_avg[\"TikTok\"] = opt_spend[\"avg_spend\"][\"TikTok\"]\n",
    "budget_scenario_avg[\"Facebook\"] = opt_spend[\"avg_spend\"][\"Facebook\"]\n",
    "budget_scenario_avg[\"Google Ads\"] = opt_spend[\"avg_spend\"][\"Google Ads\"]\n",
    "# budget_scenario_avg[\"demand\"] = X[budget_idx][control_cols].mean()[0]\n",
    "\n",
    "# calculate overall contribution\n",
    "scenario_contrib_avg  = mmm_default.sample_posterior_predictive(\n",
    "    X_pred=budget_scenario_avg , extend_idata=False\n",
    ")\n",
    "\n",
    "avg_contrib = scenario_contrib_avg.mean(dim=\"sample\").sum()[\"y\"].values"
   ]
  },
  {
   "cell_type": "code",
   "execution_count": 17,
   "id": "dcd962b1",
   "metadata": {},
   "outputs": [
    {
     "name": "stdout",
     "output_type": "stream",
     "text": [
      "% increase in sales: 0.00022\n"
     ]
    }
   ],
   "source": [
    "print(f'% increase in sales: {round((opt_contrib / avg_contrib) - 1,5)}')"
   ]
  },
  {
   "cell_type": "markdown",
   "id": "f8776c1c",
   "metadata": {},
   "source": [
    "Though the model suggests a redistribution of allocated budget, it increases the sales only marginally.\n"
   ]
  }
 ],
 "metadata": {
  "kernelspec": {
   "display_name": "datascience",
   "language": "python",
   "name": "python3"
  },
  "language_info": {
   "codemirror_mode": {
    "name": "ipython",
    "version": 3
   },
   "file_extension": ".py",
   "mimetype": "text/x-python",
   "name": "python",
   "nbconvert_exporter": "python",
   "pygments_lexer": "ipython3",
   "version": "3.10.16"
  }
 },
 "nbformat": 4,
 "nbformat_minor": 5
}
